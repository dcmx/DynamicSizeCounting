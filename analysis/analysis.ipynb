{
 "cells": [
  {
   "cell_type": "markdown",
   "source": [
    "# Notebook for generating plots from the simulation results"
   ],
   "metadata": {
    "collapsed": false
   }
  },
  {
   "cell_type": "code",
   "execution_count": 1,
   "outputs": [],
   "source": [
    "from math import log2, ceil\n",
    "import os\n",
    "from typing import Optional\n",
    "\n",
    "import pandas as pd\n",
    "import numpy as np\n",
    "import matplotlib.pyplot as plt\n",
    "import matplotlib as mp"
   ],
   "metadata": {
    "collapsed": false
   }
  },
  {
   "cell_type": "markdown",
   "source": [
    "### Util functions for outputting plots"
   ],
   "metadata": {
    "collapsed": false
   }
  },
  {
   "cell_type": "code",
   "execution_count": 2,
   "outputs": [],
   "source": [
    "def save_file(ax, name: str, bbox_inches: Optional[str] = 'tight', format=\"pdf\", **kwargs):\n",
    "    ax.figure.savefig(f\"./{name}.{format}\", bbox_inches=bbox_inches, format=format, **kwargs)\n",
    "\n",
    "def get_outputs_path(rand: int, adversary: bool):\n",
    "    adv = \"_adversary\" if adversary else \"\"\n",
    "    try:\n",
    "        os.makedirs(\"results\")\n",
    "    except Exception:\n",
    "        pass\n",
    "    plot_path = f\"results/init_{rand}{adv}\"\n",
    "    # create plot_path directory if it does not exist yet\n",
    "    try:\n",
    "        os.makedirs(plot_path)\n",
    "    except Exception:\n",
    "        pass\n",
    "    return os.path.join(plot_path, f\"max_init {rand}{adv}\")\n"
   ],
   "metadata": {
    "collapsed": false
   }
  },
  {
   "cell_type": "markdown",
   "source": [
    "### Functions to parse the simulation results"
   ],
   "metadata": {
    "collapsed": false
   }
  },
  {
   "cell_type": "code",
   "execution_count": 3,
   "outputs": [],
   "source": [
    "def find_median(row: pd.Series, percentile: float = 0.5):\n",
    "    cutoff = row.sum() * percentile\n",
    "    curr = 0\n",
    "    for i, v in row.items():\n",
    "        curr += v\n",
    "        if curr >= cutoff:\n",
    "            return i\n",
    "\n",
    "\n",
    "def read_result(file_name: str, col_name: str):\n",
    "    population_size_col = \"n\"\n",
    "    all_cols = [\"time\", col_name, population_size_col]\n",
    "\n",
    "    all_data = pd.read_csv(file_name, delimiter=\";\", header=0, index_col=0, usecols=all_cols, engine=\"c\")\n",
    "    population_size = np.log2(all_data[population_size_col])\n",
    "    parsed_col = all_data[col_name].apply(lambda row: pd.Series(row[:-1].split(\",\")).astype(int))\n",
    "    min_col = parsed_col.idxmax(axis=1)\n",
    "    med_col = parsed_col.apply(find_median, axis=1)\n",
    "    max_col = parsed_col.iloc[:, ::-1].idxmax(axis=1)\n",
    "    return pd.DataFrame({\"Maximum\": max_col, \"Median\": med_col, \"Minimum\": min_col,\n",
    "                         \"Population size ($\\log n$)\": population_size}, index=all_data.index)\n",
    "\n",
    "def read_results(path: str, col_name: str, random_max: int = 10, n: int = 100000, adversary: bool = True, files: int = 5):\n",
    "    adv = \"_adversary\" if adversary else \"\"\n",
    "    min_cols, med_cols, max_cols = [], [], []\n",
    "    df = None\n",
    "    for index in range(0, files):\n",
    "        file_path = os.path.join(path, f\"random_max={random_max}_n={n}_{index}{adv}.csv\")\n",
    "        df = read_result(file_path, col_name)\n",
    "        min_cols.append(df[\"Minimum\"].rename(index))\n",
    "        med_cols.append(df[\"Median\"].rename(index))\n",
    "        max_cols.append(df[\"Maximum\"].rename(index))\n",
    "    min_df = pd.DataFrame(min_cols).T.set_index(min_cols[0].index)\n",
    "    med_df = pd.DataFrame(med_cols).T.set_index(med_cols[0].index)\n",
    "    max_df = pd.DataFrame(max_cols).T.set_index(max_cols[0].index)\n",
    "    results = pd.DataFrame({\"Maximum\": max_df.max(axis=1), \"Median\": med_df.median(axis=1), \"Minimum\": min_df.min(axis=1), \"Population size ($\\log n$)\": df[\"Population size ($\\log n$)\"]}, index=min_df.index)\n",
    "    return results\n"
   ],
   "metadata": {
    "collapsed": false
   }
  },
  {
   "cell_type": "markdown",
   "source": [
    "### Functions for plotting the parsed results"
   ],
   "metadata": {
    "collapsed": false
   }
  },
  {
   "cell_type": "code",
   "execution_count": 21,
   "outputs": [],
   "source": [
    "def plot(df: pd.DataFrame, y_axis_label: str, x_axis_label: str = \"Parallel Time\", ax: Optional[plt.Axes] = None, **kwargs):\n",
    "    figsize = (7.5, 4)\n",
    "\n",
    "    mp.rc('font', size=15)\n",
    "    mp.rc('axes', labelsize=15, titlesize=16, titleweight=\"normal\")\n",
    "    mp.style.use(\"tableau-colorblind10\")\n",
    "    data = df.loc[:, df.columns != \"Population size ($\\log n$)\"]\n",
    "\n",
    "    if ax is None:\n",
    "        _, ax = plt.subplots()\n",
    "    data.plot(ax=ax, figsize=figsize, **kwargs)\n",
    "    l = ax.get_children()\n",
    "    l[0].set_zorder(3)\n",
    "    l[1].set_zorder(2)\n",
    "    l[2].set_zorder(1)\n",
    "\n",
    "    if \"Population size ($\\log n$)\" in df.columns:\n",
    "        df[\"Population size ($\\log n$)\"].plot(ax=ax, linestyle=\":\", sharex=True)\n",
    "    ax.set(xlabel=x_axis_label, ylabel=y_axis_label)\n",
    "    ax.legend()\n",
    "    return ax\n",
    "\n",
    "def plot_examples(path: str, exp_start: int, exp_end: int, rand: int, adversary: bool, examples: int = 1):\n",
    "    adv = \"_adversary\" if adversary else \"\"\n",
    "    plot_filename = get_outputs_path(rand, adversary)\n",
    "    for i in range(examples):\n",
    "        for exp in range(exp_start, exp_end + 1):\n",
    "            for col_name, y_axis_name in [(\"estimate\", \"Estimate of $\\log n$\"), (\"max\", \"Maximum GRV\"), (\"interactions\", \"Last wrap-around\"), (\"timer\", \"Time\")]:\n",
    "                file_name = os.path.join(path, f\"random_max={rand}_n={10 ** exp}_{i}{adv}.csv\")\n",
    "                df = read_result(file_name=file_name, col_name=col_name)\n",
    "                ax = plot(df, y_axis_label=f\"{col_name.title()}\")\n",
    "                save_file(ax, f\"{plot_filename}_example_{col_name}__n={exp}_{i}\")\n",
    "                plt.close(ax.figure)\n",
    "\n",
    "def plot_aggregates(path: str, exp_start: int, exp_end: int, rand: int, adversary: bool, files: int):\n",
    "    # aggregates the results of multiple simulations with the same parameters, only varying population size\n",
    "    upper_ylim = None if rand == 60 else 50\n",
    "    plot_filename = get_outputs_path(rand, adversary)\n",
    "    min_list, med_list, max_list, idx = [], [], [], []\n",
    "    for exp in range(exp_start, exp_end + 1):\n",
    "        df = read_results(path=path, col_name=\"estimate\", random_max=rand, n=10 ** exp, adversary=adversary, files=files)\n",
    "        ax = plot(df, y_axis_label=\"Estimate of $\\log n$\", ylim=[-0.6, upper_ylim])\n",
    "        save_file(ax, f\"{plot_filename}_aggregate_estimate_{exp}\")\n",
    "        plt.close(ax.figure)\n",
    "        dev = (df / log2(10 ** exp)).iloc[500:]\n",
    "        min_list.append(dev[\"Minimum\"].min())\n",
    "        med_list.append(dev[\"Median\"].median())\n",
    "        max_list.append(dev[\"Maximum\"].max())\n",
    "        idx.append(exp)\n",
    "    deviation = pd.DataFrame({\"Maximum\": max_list, \"Medium\": med_list, \"Minimum\": min_list}, index=idx)\n",
    "    ax = plot(deviation, \"Relative deviation from $\\log n$\", \"Population size ($\\log_{10}$)\")\n",
    "    save_file(ax, f\"{plot_filename}_deviation\")\n",
    "    plt.close(ax.figure)\n",
    "\n",
    "def plot_all(exp_start: int, exp_end: int, rand: int, adversary: bool, files: int):\n",
    "    plot_examples(\"../outputs/\", exp_start=exp_start, exp_end=exp_end, rand=rand, adversary=adversary, examples=1)\n",
    "    plot_aggregates(\"../outputs/\", exp_start=exp_start, exp_end=exp_end, rand=rand, adversary=adversary, files=files)"
   ],
   "metadata": {
    "collapsed": false
   }
  },
  {
   "cell_type": "code",
   "execution_count": 22,
   "outputs": [],
   "source": [
    "files = 96\n",
    "plot_all(exp_start=1, exp_end=5, rand=1, adversary=False, files=files)\n",
    "plot_all(exp_start=1, exp_end=6, rand=10, adversary=False, files=files)\n",
    "plot_all(exp_start=1, exp_end=6, rand=60, adversary=False, files=files)\n",
    "plot_all(exp_start=1, exp_end=6, rand=1, adversary=True, files=files)"
   ],
   "metadata": {
    "collapsed": false
   }
  },
  {
   "cell_type": "code",
   "execution_count": null,
   "outputs": [],
   "source": [],
   "metadata": {
    "collapsed": false
   }
  }
 ],
 "metadata": {
  "kernelspec": {
   "display_name": "Python 3",
   "language": "python",
   "name": "python3"
  },
  "language_info": {
   "codemirror_mode": {
    "name": "ipython",
    "version": 2
   },
   "file_extension": ".py",
   "mimetype": "text/x-python",
   "name": "python",
   "nbconvert_exporter": "python",
   "pygments_lexer": "ipython2",
   "version": "2.7.6"
  }
 },
 "nbformat": 4,
 "nbformat_minor": 0
}
